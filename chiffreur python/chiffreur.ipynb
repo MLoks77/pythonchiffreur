{
 "cells": [
  {
   "cell_type": "code",
   "execution_count": null,
   "id": "eec5e157-b1b3-43e7-91a8-6dc7bebc63ce",
   "metadata": {},
   "outputs": [
    {
     "name": "stdout",
     "output_type": "stream",
     "text": [
      "Donner votre mot à chiffrer :  baleine\n"
     ]
    },
    {
     "name": "stdout",
     "output_type": "stream",
     "text": [
      "Mot original : baleine\n",
      "Mot chiffré  : 00010 00001 01100 00101 01001 01110 00101\n"
     ]
    }
   ],
   "source": [
    "\n",
    "\n",
    "x = input(\"Donner votre mot à chiffrer : \").lower()\n",
    "\n",
    "binaire = {\n",
    "    'a': '00001',\n",
    "    'b': '00010',\n",
    "    'c': '00011',\n",
    "    'd': '00100',\n",
    "    'e': '00101',\n",
    "    'f': '00110',\n",
    "    'g': '00111',\n",
    "    'h': '01000',\n",
    "    'i': '01001',\n",
    "    'j': '01010',\n",
    "    'k': '01011',  \n",
    "    'l': '01100',\n",
    "    'm': '01101', \n",
    "    'n': '01110',  \n",
    "    'o': '01111',  \n",
    "    'p': '10000',\n",
    "    'q': '10001',\n",
    "    'r': '10010',\n",
    "    's': '10011',\n",
    "    't': '10100',\n",
    "    'u': '10101',\n",
    "    'v': '10110',\n",
    "    'w': '10111',\n",
    "    'x': '11000',\n",
    "    'y': '11001',\n",
    "    'z': '11010'\n",
    "}\n",
    "\n",
    "hexa = {\n",
    "    'a': '1',\n",
    "    'b': '2',\n",
    "    'c': '3',\n",
    "    'd': '4',\n",
    "    'e': '5',\n",
    "    'f': '6',\n",
    "    'g': '7',\n",
    "    'h': '8',\n",
    "    'i': '9',\n",
    "    'j': 'A',\n",
    "    'k': 'B',  \n",
    "    'l': 'C',\n",
    "    'm': 'D', \n",
    "    'n': 'E',  \n",
    "    'o': 'F',  \n",
    "    'p': '10',\n",
    "    'q': '11',\n",
    "    'r': '12',\n",
    "    's': '13',\n",
    "    't': '14',\n",
    "    'u': '15',\n",
    "    'v': '16',\n",
    "    'w': '17',\n",
    "    'x': '18',\n",
    "    'y': '19',\n",
    "    'z': 'A1'\n",
    "}\n",
    "\n",
    "\n",
    "\n",
    "mot_chiffre = \" \".join(binaire[lettre] for lettre in x if lettre in binaire)\n",
    "mot_hexa = \" \".join(hexa[lettre] for lettre in x if lettre in hexa)\n",
    "\n",
    "print(f\"Mot original : {x}\")\n",
    "print(f\"Mot binaire  : {mot_chiffre}\")\n",
    "print(f\"Mot hexa  : {mot_hexa}\")\n"
   ]
  },
  {
   "cell_type": "code",
   "execution_count": null,
   "id": "d89a8d61-1a76-415c-9360-cb7e777b0415",
   "metadata": {},
   "outputs": [],
   "source": []
  }
 ],
 "metadata": {
  "kernelspec": {
   "display_name": "Python 3",
   "language": "python",
   "name": "python3"
  },
  "language_info": {
   "codemirror_mode": {
    "name": "ipython",
    "version": 3
   },
   "file_extension": ".py",
   "mimetype": "text/x-python",
   "name": "python",
   "nbconvert_exporter": "python",
   "pygments_lexer": "ipython3",
   "version": "3.13.2"
  }
 },
 "nbformat": 4,
 "nbformat_minor": 5
}
